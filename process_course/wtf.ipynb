{
 "cells": [
  {
   "cell_type": "code",
   "execution_count": null,
   "id": "bed11860",
   "metadata": {},
   "outputs": [],
   "source": [
    "# import pandas as pd\n",
    "\n",
    "# # CSV 파일 경로\n",
    "# after_mission_path = \"./process_mission/output/after_attraction_mission.csv\"\n",
    "# attractions_path = \"./csv/attractions.csv\"\n",
    "\n",
    "# # CSV 파일 읽기\n",
    "# after_attraction_mission = pd.read_csv(after_mission_path)\n",
    "# attractions = pd.read_csv(attractions_path)\n",
    "\n",
    "# # `attraction_id`와 `content_id`가 일치하는 데이터 필터링\n",
    "# filtered_attractions = attractions[attractions[\"content_id\"].isin(after_attraction_mission[\"attraction_id\"])]\n",
    "\n",
    "# # 결과 출력\n",
    "# print(filtered_attractions)\n",
    "\n",
    "from openai import OpenAI\n",
    "with open(\"./files/key\",'r') as f:\n",
    "    openkey=f.read()\n",
    "client = OpenAI(\n",
    "    api_key=openkey\n",
    ")\n",
    "\n",
    "# Upload a file with an \"assistants\" purpose\n",
    "file = client.files.create(\n",
    "  file=open(\"./csv/sidos.csv\", \"rb\"),\n",
    "  purpose='assistants'\n",
    ")\n",
    "\n",
    "# Add the file to the assistant\n",
    "assistant = client.beta.assistants.create(f\n",
    "#   instructions=\"You are a customer support chatbot. Use your knowledge base to best respond to customer queries.\",\n",
    "  model=\"gpt-4-1106-preview\",\n",
    "  tools=[{\"type\": \"retrieval\"}],\n",
    "  tool_resources={ \"code_interpreter\": {\"file_ids\": [file.id]}} \n",
    ")\n",
    "\n",
    "# 쓰레드 생성 및 메세지 전달\n",
    "thread = client.beta.threads.create()\n",
    "message = client.beta.threads.messages.create(\n",
    "    thread_id = thread.id,\n",
    "    role = \"user\",\n",
    "    content = \"서울의 키값은 무엇입니가?\"\n",
    ")\n",
    "run = client.beta.threads.runs.create(\n",
    "    thread_id = thread.id,\n",
    "    assistant_id= assistant.id\n",
    ")\n",
    "\n",
    "# GPT 응답 대기 및 출력\n",
    "import time\n",
    "\n",
    "while True:\n",
    "# Retrieve the run status\n",
    "    run_status = client.beta.threads.runs.retrieve(thread_id=thread.id,run_id=run.id)\n",
    "    time.sleep(10)\n",
    "    if run_status.status == 'completed':\n",
    "        messages = client.beta.threads.messages.list(thread_id=thread.id)\n",
    "        break\n",
    "    else:\n",
    "        ### sleep again\n",
    "        time.sleep(2)\n",
    "\n",
    "for message in reversed(messages.data):\n",
    "  print(message.role + \":\" + message.content[0].text.value)\n",
    "\n",
    "# 비용 이슈가 있기 때문에 사용후 반드시 파일 제거\n",
    "file_deletion_status = client.beta.assistants.files.delete(\n",
    "  assistant_id=assistant.id,\n",
    "  file_id=file.id\n",
    ")"
   ]
  },
  {
   "cell_type": "code",
   "execution_count": 3,
   "id": "38622ed0",
   "metadata": {
    "ExecuteTime": {
     "end_time": "2024-11-24T20:45:17.497203Z",
     "start_time": "2024-11-24T20:45:17.444891Z"
    }
   },
   "outputs": [
    {
     "name": "stdout",
     "output_type": "stream",
     "text": [
      "<bound method Assistants.delete of <openai.resources.beta.assistants.Assistants object at 0x7fdcf1d08370>>\n"
     ]
    }
   ],
   "source": [
    "from openai import OpenAI\n",
    "with open(\"../files/key2\",'r') as f:\n",
    "    openkey=f.read()\n",
    "client = OpenAI(\n",
    "    api_key=openkey\n",
    ")\n",
    "print(client.beta.assistants.delete)"
   ]
  },
  {
   "cell_type": "code",
   "execution_count": 4,
   "id": "11787396",
   "metadata": {
    "ExecuteTime": {
     "end_time": "2024-11-24T20:46:18.725777Z",
     "start_time": "2024-11-24T20:46:18.716892Z"
    }
   },
   "outputs": [
    {
     "ename": "NameError",
     "evalue": "name 'assistant' is not defined",
     "output_type": "error",
     "traceback": [
      "\u001b[0;31m---------------------------------------------------------------------------\u001b[0m",
      "\u001b[0;31mNameError\u001b[0m                                 Traceback (most recent call last)",
      "\u001b[0;32m/tmp/ipykernel_26274/2695985190.py\u001b[0m in \u001b[0;36m<module>\u001b[0;34m\u001b[0m\n\u001b[0;32m----> 1\u001b[0;31m \u001b[0mclient\u001b[0m\u001b[0;34m.\u001b[0m\u001b[0mbeta\u001b[0m\u001b[0;34m.\u001b[0m\u001b[0massistants\u001b[0m\u001b[0;34m.\u001b[0m\u001b[0mdelete\u001b[0m\u001b[0;34m(\u001b[0m\u001b[0massistant_id\u001b[0m\u001b[0;34m=\u001b[0m\u001b[0massistant\u001b[0m\u001b[0;34m.\u001b[0m\u001b[0mid\u001b[0m\u001b[0;34m)\u001b[0m\u001b[0;34m\u001b[0m\u001b[0;34m\u001b[0m\u001b[0m\n\u001b[0m",
      "\u001b[0;31mNameError\u001b[0m: name 'assistant' is not defined"
     ]
    }
   ],
   "source": [
    "print(client.beta.assistants.delete(assistant_id=assistant.id))"
   ]
  }
 ],
 "metadata": {
  "kernelspec": {
   "display_name": "Python 3 (ipykernel)",
   "language": "python",
   "name": "python3"
  },
  "language_info": {
   "codemirror_mode": {
    "name": "ipython",
    "version": 3
   },
   "file_extension": ".py",
   "mimetype": "text/x-python",
   "name": "python",
   "nbconvert_exporter": "python",
   "pygments_lexer": "ipython3",
   "version": "3.10.6"
  },
  "toc": {
   "base_numbering": 1,
   "nav_menu": {},
   "number_sections": true,
   "sideBar": true,
   "skip_h1_title": false,
   "title_cell": "Table of Contents",
   "title_sidebar": "Contents",
   "toc_cell": false,
   "toc_position": {},
   "toc_section_display": true,
   "toc_window_display": false
  }
 },
 "nbformat": 4,
 "nbformat_minor": 5
}
