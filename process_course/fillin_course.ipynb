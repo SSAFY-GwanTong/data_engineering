{
 "cells": [
  {
   "cell_type": "markdown",
   "id": "3eaed945-de3d-47ee-85d2-988644790baf",
   "metadata": {},
   "source": [
    "```\n",
    "locations = [\n",
    "    [],  # 점심식사 (인덱스 % 5 == 0)\n",
    "    [23, \"경찰혼\", 37.5263408571, 126.9006431406],  # 활동\n",
    "    [],  # 저녁식사 (인덱스 % 5 == 2)\n",
    "    [30, \"고덕동 생태경관 보전지역\", 37.5670267098, 127.1493110052],  # 활동\n",
    "    [],  # 숙소 (인덱스 % 5 == 4)\n",
    "    [],  # 점심식사\n",
    "    [39, \"과학동아천문대\", 37.5337300099, 126.963378882],  # 활동\n",
    "    [],  # 저녁식사\n",
    "    [63, \"구강사\", 37.5449150194, 127.1288607188],  # 활동\n",
    "    [],  # 숙소\n",
    "    [],  # 점심식사\n",
    "    [66, \"구로구 반려견 놀이터\", 37.5082258503, 126.8757403642],  # 활동\n",
    "    [],  # 저녁식사\n",
    "    [67, \"구로기계공구단지\", 37.5041347264, 126.8795151353],  # 활동\n",
    "    [],  # 숙소\n",
    "    [],  # 점심식사\n",
    "    [78, \"국악사랑\", 37.5829218735, 126.9833340052],  # 활동\n",
    "    [],  # 저녁식사\n",
    "    [139, \"대림어린이공원\", 37.4914005142, 126.9030355727],  # 활동\n",
    "    [],  # 숙소\n",
    "    [],  # 점심식사\n",
    "    [250, \"배봉산\", 37.5807819121, 127.0643739039],  # 활동\n",
    "]\n",
    "```"
   ]
  },
  {
   "cell_type": "markdown",
   "id": "aae68e6a-b16a-41a2-91d5-99aceaec8254",
   "metadata": {},
   "source": [
    "```\n",
    "[2854402, '당산오돌 본점', 37.5276156945, 126.8998320674]\n",
    "[23, '경찰혼', 37.5263408571, 126.9006431406]\n",
    "[2839476, '33Acre', 37.5632188287, 127.1498471762]\n",
    "[30, '고덕동 생태경관 보전지역', 37.5670267098, 127.1493110052]\n",
    "[1781984, '가바나모텔', 37.5972257905, 127.1388777598]\n",
    "[2608909, '[백년가게]창성옥', 37.5364601949, 126.9604179636]\n",
    "[39, '과학동아천문대', 37.5337300099, 126.963378882]\n",
    "[2809790, '송월냉면', 37.5415348675, 127.1294774259]\n",
    "[63, '구강사', 37.5449150194, 127.1288607188]\n",
    "[3080615, '아르고호텔', 37.5362439489, 127.1368741254]\n",
    "[2774271, '뒤뜰', 37.5051288955, 126.8705548127]\n",
    "[66, '구로구 반려견 놀이터', 37.5082258503, 126.8757403642]\n",
    "[2653716, '광명수산', 37.5057012674, 126.8826675817]\n",
    "[67, '구로기계공구단지', 37.5041347264, 126.8795151353]\n",
    "[136332, '유로파라텔', 37.5001992975, 126.8921252084]\n",
    "[1154331, '파툼(FATUM)', 37.5832023745, 126.9821368841]\n",
    "[78, '국악사랑', 37.5829218735, 126.9833340052]\n",
    "[2682646, '형제꼬치집', 37.4892784837, 126.8999609122]\n",
    "[139, '대림어린이공원', 37.4914005142, 126.9030355727]\n",
    "[2505908, '롯데시티호텔 구로', 37.4850844673, 126.8966252225]\n",
    "[2842950, '천호낙지', 37.5789683, 127.0680236226]\n",
    "[250, '배봉산', 37.5807819121, 127.0643739039]\n",
    "```"
   ]
  },
  {
   "cell_type": "code",
   "execution_count": 13,
   "id": "fa29ffc9-fac0-4a5a-aef9-63fcb4d8d066",
   "metadata": {},
   "outputs": [
    {
     "name": "stderr",
     "output_type": "stream",
     "text": [
      "Processing files:   0%|                                    | 0/10 [00:00<?, ?it/s]\n",
      "Processing 1_attraction_response.txt locations:   0%|       | 0/7 [00:00<?, ?it/s]\u001b[A\n",
      "Processing 1_attraction_response.txt locations:  14%|▏| 1/7 [00:24<02:25, 24.25s/i\u001b[A\n",
      "Processing 1_attraction_response.txt locations:  29%|▎| 2/7 [00:48<02:00, 24.19s/i\u001b[A\n",
      "Processing 1_attraction_response.txt locations:  43%|▍| 3/7 [01:12<01:36, 24.12s/i\u001b[A\n",
      "Processing 1_attraction_response.txt locations:  57%|▌| 4/7 [01:36<01:12, 24.22s/i\u001b[A\n",
      "Processing 1_attraction_response.txt locations:  71%|▋| 5/7 [02:00<00:48, 24.20s/i\u001b[A\n",
      "Processing 1_attraction_response.txt locations:  86%|▊| 6/7 [02:25<00:24, 24.21s/i\u001b[A\n",
      "Processing 1_attraction_response.txt locations: 100%|█| 7/7 [02:49<00:00, 24.13s/i\u001b[A\n",
      "Processing files:  10%|██▋                        | 1/10 [02:49<25:22, 169.17s/it]\u001b[A"
     ]
    },
    {
     "name": "stdout",
     "output_type": "stream",
     "text": [
      "1_attraction_response.txt processed and saved to ./my_courses\\1_attraction_response.txt\n"
     ]
    },
    {
     "name": "stderr",
     "output_type": "stream",
     "text": [
      "\n",
      "Processing 2_attraction_response.txt locations:   0%|       | 0/7 [00:00<?, ?it/s]\u001b[A\n",
      "                                                                                  \u001b[A"
     ]
    },
    {
     "name": "stdout",
     "output_type": "stream",
     "text": [
      "2_attraction_response.txt processed and saved to ./my_courses\\2_attraction_response.txt\n"
     ]
    },
    {
     "name": "stderr",
     "output_type": "stream",
     "text": [
      "\n",
      "Processing 31_attraction_response.txt locations:   0%|      | 0/7 [00:00<?, ?it/s]\u001b[A\n",
      "Processing 31_attraction_response.txt locations:  14%|▏| 1/7 [00:23<02:23, 23.95s/\u001b[A\n",
      "Processing 31_attraction_response.txt locations:  29%|▎| 2/7 [00:48<02:01, 24.21s/\u001b[A\n",
      "Processing 31_attraction_response.txt locations:  43%|▍| 3/7 [01:12<01:37, 24.39s/\u001b[A\n",
      "Processing 31_attraction_response.txt locations:  57%|▌| 4/7 [01:31<01:06, 22.16s/\u001b[A\n",
      "Processing 31_attraction_response.txt locations:  71%|▋| 5/7 [01:50<00:41, 20.94s/\u001b[A\n",
      "Processing 31_attraction_response.txt locations:  86%|▊| 6/7 [02:09<00:20, 20.20s/\u001b[A\n",
      "Processing 31_attraction_response.txt locations: 100%|█| 7/7 [02:28<00:00, 20.04s/\u001b[A\n",
      "Processing files:  30%|████████▍                   | 3/10 [05:18<11:33, 99.02s/it]\u001b[A"
     ]
    },
    {
     "name": "stdout",
     "output_type": "stream",
     "text": [
      "31_attraction_response.txt processed and saved to ./my_courses\\31_attraction_response.txt\n"
     ]
    },
    {
     "name": "stderr",
     "output_type": "stream",
     "text": [
      "\n",
      "Processing 32_attraction_response.txt locations:   0%|     | 0/10 [00:00<?, ?it/s]\u001b[A\n",
      "Processing 32_attraction_response.txt locations:  10%| | 1/10 [00:24<03:41, 24.59s\u001b[A\n",
      "Processing 32_attraction_response.txt locations:  20%|▏| 2/10 [00:44<02:54, 21.83s\u001b[A\n",
      "Processing 32_attraction_response.txt locations:  30%|▎| 3/10 [01:03<02:25, 20.76s\u001b[A\n",
      "Processing 32_attraction_response.txt locations:  40%|▍| 4/10 [01:23<02:00, 20.11s\u001b[A\n",
      "Processing 32_attraction_response.txt locations:  50%|▌| 5/10 [01:42<01:38, 19.77s\u001b[A\n",
      "Processing 32_attraction_response.txt locations:  60%|▌| 6/10 [02:01<01:18, 19.54s\u001b[A\n",
      "Processing 32_attraction_response.txt locations:  70%|▋| 7/10 [02:20<00:58, 19.47s\u001b[A\n",
      "Processing 32_attraction_response.txt locations:  80%|▊| 8/10 [02:40<00:38, 19.47s\u001b[A\n",
      "Processing 32_attraction_response.txt locations:  90%|▉| 9/10 [02:59<00:19, 19.46s\u001b[A\n",
      "Processing 32_attraction_response.txt locations: 100%|█| 10/10 [03:19<00:00, 19.50\u001b[A\n",
      "Processing files:  40%|██████████▊                | 4/10 [08:37<13:22, 133.68s/it]\u001b[A"
     ]
    },
    {
     "name": "stdout",
     "output_type": "stream",
     "text": [
      "32_attraction_response.txt processed and saved to ./my_courses\\32_attraction_response.txt\n"
     ]
    },
    {
     "name": "stderr",
     "output_type": "stream",
     "text": [
      "\n",
      "Processing 33_attraction_response.txt locations:   0%|     | 0/10 [00:00<?, ?it/s]\u001b[A\n",
      "                                                                                  \u001b[A"
     ]
    },
    {
     "name": "stdout",
     "output_type": "stream",
     "text": [
      "33_attraction_response.txt processed and saved to ./my_courses\\33_attraction_response.txt\n"
     ]
    },
    {
     "name": "stderr",
     "output_type": "stream",
     "text": [
      "\n",
      "Processing 34_attraction_response.txt locations:   0%|      | 0/7 [00:00<?, ?it/s]\u001b[A\n",
      "Processing 34_attraction_response.txt locations:  14%|▏| 1/7 [00:24<02:26, 24.45s/\u001b[A\n",
      "Processing 34_attraction_response.txt locations:  29%|▎| 2/7 [00:48<02:01, 24.35s/\u001b[A\n",
      "Processing 34_attraction_response.txt locations:  43%|▍| 3/7 [01:13<01:37, 24.33s/\u001b[A\n",
      "Processing 34_attraction_response.txt locations:  57%|▌| 4/7 [01:37<01:12, 24.26s/\u001b[A\n",
      "Processing 34_attraction_response.txt locations:  71%|▋| 5/7 [02:01<00:48, 24.17s/\u001b[A\n",
      "Processing 34_attraction_response.txt locations:  86%|▊| 6/7 [02:26<00:24, 24.39s/\u001b[A\n",
      "Processing 34_attraction_response.txt locations: 100%|█| 7/7 [02:50<00:00, 24.30s/\u001b[A\n",
      "Processing files:  60%|████████████████▏          | 6/10 [11:27<07:18, 109.52s/it]\u001b[A"
     ]
    },
    {
     "name": "stdout",
     "output_type": "stream",
     "text": [
      "34_attraction_response.txt processed and saved to ./my_courses\\34_attraction_response.txt\n"
     ]
    },
    {
     "name": "stderr",
     "output_type": "stream",
     "text": [
      "\n",
      "Processing 35_attraction_response.txt locations:   0%|      | 0/7 [00:00<?, ?it/s]\u001b[A\n",
      "Processing 35_attraction_response.txt locations:  14%|▏| 1/7 [00:27<02:46, 27.80s/\u001b[A\n",
      "Processing 35_attraction_response.txt locations:  29%|▎| 2/7 [00:49<02:01, 24.34s/\u001b[A\n",
      "Processing 35_attraction_response.txt locations:  43%|▍| 3/7 [01:11<01:33, 23.32s/\u001b[A\n",
      "Processing 35_attraction_response.txt locations:  57%|▌| 4/7 [01:33<01:08, 22.78s/\u001b[A\n",
      "Processing 35_attraction_response.txt locations:  71%|▋| 5/7 [01:55<00:45, 22.57s/\u001b[A\n",
      "Processing 35_attraction_response.txt locations:  86%|▊| 6/7 [02:18<00:22, 22.41s/\u001b[A\n",
      "Processing 35_attraction_response.txt locations: 100%|█| 7/7 [02:40<00:00, 22.29s/\u001b[A\n",
      "Processing files:  70%|██████████████████▉        | 7/10 [14:07<06:08, 122.78s/it]\u001b[A"
     ]
    },
    {
     "name": "stdout",
     "output_type": "stream",
     "text": [
      "35_attraction_response.txt processed and saved to ./my_courses\\35_attraction_response.txt\n"
     ]
    },
    {
     "name": "stderr",
     "output_type": "stream",
     "text": [
      "\n",
      "Processing 36_attraction_response.txt locations:   0%|      | 0/7 [00:00<?, ?it/s]\u001b[A\n",
      "                                                                                  \u001b[A"
     ]
    },
    {
     "name": "stdout",
     "output_type": "stream",
     "text": [
      "36_attraction_response.txt processed and saved to ./my_courses\\36_attraction_response.txt\n"
     ]
    },
    {
     "name": "stderr",
     "output_type": "stream",
     "text": [
      "\n",
      "Processing 37_attraction_response.txt locations:   0%|      | 0/7 [00:00<?, ?it/s]\u001b[A\n",
      "                                                                                  \u001b[A"
     ]
    },
    {
     "name": "stdout",
     "output_type": "stream",
     "text": [
      "37_attraction_response.txt processed and saved to ./my_courses\\37_attraction_response.txt\n"
     ]
    },
    {
     "name": "stderr",
     "output_type": "stream",
     "text": [
      "\n",
      "Processing 6_attraction_response.txt locations:   0%|       | 0/7 [00:00<?, ?it/s]\u001b[A\n",
      "Processing files: 100%|███████████████████████████| 10/10 [14:07<00:00, 84.76s/it]\u001b[A"
     ]
    },
    {
     "name": "stdout",
     "output_type": "stream",
     "text": [
      "6_attraction_response.txt processed and saved to ./my_courses\\6_attraction_response.txt\n"
     ]
    },
    {
     "name": "stderr",
     "output_type": "stream",
     "text": [
      "\n"
     ]
    }
   ],
   "source": [
    "import pandas as pd\n",
    "from geopy.distance import geodesic\n",
    "import os\n",
    "from tqdm import tqdm\n",
    "\n",
    "# CSV 파일 경로\n",
    "attractions_path = \"../csv/attractions.csv\"\n",
    "\n",
    "# 데이터 로드\n",
    "attractions = pd.read_csv(attractions_path)\n",
    "\n",
    "# 조건에 맞는 데이터 필터링\n",
    "lunch_dinner_data = attractions[attractions['content_type_id'] == 39]  # 점심/저녁\n",
    "lodging_data = attractions[attractions['content_type_id'] == 32]      # 숙소\n",
    "\n",
    "# 가장 가까운 위치를 찾는 함수\n",
    "def find_closest(target_lat, target_lon, data):\n",
    "    target_location = (target_lat, target_lon)\n",
    "    min_distance = float(\"inf\")\n",
    "    closest_row = None\n",
    "\n",
    "    for _, row in data.iterrows():\n",
    "        row_location = (row[\"latitude\"], row[\"longitude\"])\n",
    "        distance = geodesic(target_location, row_location).meters  # 거리 계산\n",
    "        if distance < min_distance:\n",
    "            min_distance = distance\n",
    "            closest_row = row\n",
    "\n",
    "    return closest_row\n",
    "\n",
    "# 빈 리스트를 채우는 함수\n",
    "def fill_empty_locations(locations):\n",
    "    for i in range(len(locations)):\n",
    "        if locations[i] == []:  # 빈 리스트\n",
    "            # 점심식사 (인덱스 % 5 == 0)\n",
    "            if i % 5 == 0 and i + 1 < len(locations):\n",
    "                next_lat, next_lon = locations[i + 1][2], locations[i + 1][3]\n",
    "                closest_row = find_closest(next_lat, next_lon, lunch_dinner_data)\n",
    "                locations[i] = [\n",
    "                    closest_row[\"content_id\"],\n",
    "                    closest_row[\"title\"],\n",
    "                    closest_row[\"latitude\"],\n",
    "                    closest_row[\"longitude\"],\n",
    "                ]\n",
    "            # 저녁식사 (인덱스 % 5 == 2)\n",
    "            elif i % 5 == 2 and i + 1 < len(locations):\n",
    "                next_lat, next_lon = locations[i + 1][2], locations[i + 1][3]\n",
    "                closest_row = find_closest(next_lat, next_lon, lunch_dinner_data)\n",
    "                locations[i] = [\n",
    "                    closest_row[\"content_id\"],\n",
    "                    closest_row[\"title\"],\n",
    "                    closest_row[\"latitude\"],\n",
    "                    closest_row[\"longitude\"],\n",
    "                ]\n",
    "            # 숙소 (인덱스 % 5 == 4)\n",
    "            elif i % 5 == 4 and i - 1 >= 0:\n",
    "                prev_lat, prev_lon = locations[i - 1][2], locations[i - 1][3]\n",
    "                closest_row = find_closest(prev_lat, prev_lon, lodging_data)\n",
    "                locations[i] = [\n",
    "                    closest_row[\"content_id\"],\n",
    "                    closest_row[\"title\"],\n",
    "                    closest_row[\"latitude\"],\n",
    "                    closest_row[\"longitude\"],\n",
    "                ]\n",
    "    return locations\n",
    "\n",
    "# 입력 및 출력 디렉토리 설정\n",
    "input_dir = \"./outputS\"\n",
    "output_dir = \"./my_courses\"\n",
    "\n",
    "if not os.path.exists(output_dir):\n",
    "    os.makedirs(output_dir)\n",
    "\n",
    "# ./output/ 디렉토리의 모든 txt 파일 처리\n",
    "for file_name in tqdm(os.listdir(input_dir), desc=\"Processing files\"):\n",
    "    if file_name.endswith(\".txt\"):  # TXT 파일만 처리\n",
    "        file_path = os.path.join(input_dir, file_name)\n",
    "\n",
    "        # travel_plans 로드\n",
    "        with open(file_path, \"r\", encoding=\"utf-8\") as f:\n",
    "            file_content = f.read()\n",
    "            exec(file_content)  # travel_plans 리스트 실행\n",
    "\n",
    "        # travel_plans 내부의 각 locations에 대해 fill_empty_locations 수행\n",
    "        for locations in tqdm(travel_plans, desc=f\"Processing {file_name} locations\", leave=False):\n",
    "            fill_empty_locations(locations)\n",
    "\n",
    "        # 처리된 travel_plans를 문자열로 변환하여 저장\n",
    "        output_file_path = os.path.join(output_dir, file_name)\n",
    "        with open(output_file_path, \"w\", encoding=\"utf-8\") as f:\n",
    "            f.write(str(travel_plans))\n",
    "\n",
    "        print(f\"{file_name} processed and saved to {output_file_path}\")\n"
   ]
  },
  {
   "cell_type": "code",
   "execution_count": null,
   "id": "73af2025-fbdd-4d31-b366-6714a754fd48",
   "metadata": {},
   "outputs": [],
   "source": []
  }
 ],
 "metadata": {
  "kernelspec": {
   "display_name": "Python 3 (ipykernel)",
   "language": "python",
   "name": "python3"
  },
  "language_info": {
   "codemirror_mode": {
    "name": "ipython",
    "version": 3
   },
   "file_extension": ".py",
   "mimetype": "text/x-python",
   "name": "python",
   "nbconvert_exporter": "python",
   "pygments_lexer": "ipython3",
   "version": "3.13.0"
  }
 },
 "nbformat": 4,
 "nbformat_minor": 5
}
