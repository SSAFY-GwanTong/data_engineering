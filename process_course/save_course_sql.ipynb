{
 "cells": [
  {
   "cell_type": "code",
   "execution_count": 23,
   "id": "4411651d-e36f-4af6-9596-0969162e1e99",
   "metadata": {},
   "outputs": [
    {
     "name": "stdout",
     "output_type": "stream",
     "text": [
      "SQL INSERT statements have been written to ./insert_ai_plan.sql\n"
     ]
    }
   ],
   "source": [
    "import os\n",
    "\n",
    "# ./my_courses 디렉토리 경로\n",
    "input_dir = \"./my_courses\"\n",
    "output_sql_path = \"./insert_ai_plan.sql\"\n",
    "\n",
    "# SQL 파일 열기\n",
    "with open(output_sql_path, \"w\", encoding=\"utf-8\") as sql_file:\n",
    "    ai_plan_id = 1\n",
    "    ai_plan_detail_id = 1\n",
    "\n",
    "    # 디렉토리 내 파일 처리\n",
    "    for file_name in os.listdir(input_dir):\n",
    "        if file_name.endswith(\".txt\"):  # .txt 파일만 처리\n",
    "            # area_code 추출\n",
    "            area_code = int(file_name.split('_')[0])\n",
    "\n",
    "            # 파일 읽기 및 eval()로 travel_plans 생성\n",
    "            file_path = os.path.join(input_dir, file_name)\n",
    "            with open(file_path, \"r\", encoding=\"utf-8\") as f:\n",
    "                file_content = f.read()\n",
    "                travel_plans = eval(file_content)  # 3중 리스트로 변환\n",
    "            \n",
    "            # travel_plans 데이터 처리\n",
    "            for i in range(len(travel_plans)):\n",
    "                level = i + 1\n",
    "\n",
    "                # ai_plan INSERT\n",
    "                ai_plan_insert = (\n",
    "                    f\"INSERT INTO ai_plan (id, level, area_code) \"\n",
    "                    f\"VALUES ({ai_plan_id}, {level}, {area_code});\\n\"\n",
    "                )\n",
    "                sql_file.write(ai_plan_insert)\n",
    "\n",
    "                # ai_detail_plan INSERT\n",
    "                for j in range(len(travel_plans[i])):\n",
    "                    attraction_id = travel_plans[i][j][0]\n",
    "                    day = j // 5 + 1\n",
    "                    sequence = j%5+1\n",
    "\n",
    "                    ai_detail_plan_insert = (\n",
    "                        f\"INSERT INTO ai_detail_plan (id, day, sequence, ai_plan_id, attraction_id) \"\n",
    "                        f\"VALUES ({ai_plan_detail_id}, {day}, {sequence}, {ai_plan_id}, {attraction_id});\\n\"\n",
    "                    )\n",
    "                    sql_file.write(ai_detail_plan_insert)\n",
    "\n",
    "                    ai_plan_detail_id += 1\n",
    "\n",
    "                ai_plan_id += 1\n",
    "\n",
    "print(f\"SQL INSERT statements have been written to {output_sql_path}\")\n"
   ]
  },
  {
   "cell_type": "code",
   "execution_count": null,
   "id": "057afad4-6d10-40c0-996e-3b41a8635736",
   "metadata": {},
   "outputs": [],
   "source": []
  }
 ],
 "metadata": {
  "kernelspec": {
   "display_name": "Python 3 (ipykernel)",
   "language": "python",
   "name": "python3"
  },
  "language_info": {
   "codemirror_mode": {
    "name": "ipython",
    "version": 3
   },
   "file_extension": ".py",
   "mimetype": "text/x-python",
   "name": "python",
   "nbconvert_exporter": "python",
   "pygments_lexer": "ipython3",
   "version": "3.13.0"
  }
 },
 "nbformat": 4,
 "nbformat_minor": 5
}
